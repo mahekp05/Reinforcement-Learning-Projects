{
  "nbformat": 4,
  "nbformat_minor": 0,
  "metadata": {
    "colab": {
      "provenance": [],
      "authorship_tag": "ABX9TyO4r/t1c7LteNz05Bz8gh7p",
      "include_colab_link": true
    },
    "kernelspec": {
      "name": "python3",
      "display_name": "Python 3"
    },
    "language_info": {
      "name": "python"
    },
    "widgets": {
      "application/vnd.jupyter.widget-state+json": {
        "a98ee1b7889b437b9e64c266f0aac123": {
          "model_module": "@jupyter-widgets/controls",
          "model_name": "HBoxModel",
          "model_module_version": "1.5.0",
          "state": {
            "_dom_classes": [],
            "_model_module": "@jupyter-widgets/controls",
            "_model_module_version": "1.5.0",
            "_model_name": "HBoxModel",
            "_view_count": null,
            "_view_module": "@jupyter-widgets/controls",
            "_view_module_version": "1.5.0",
            "_view_name": "HBoxView",
            "box_style": "",
            "children": [
              "IPY_MODEL_d3e225a0fe7a4245b88023a20cd69fc5",
              "IPY_MODEL_851a844a12ea442bb2c5f76d1941edf6",
              "IPY_MODEL_616f73717e9746ef93fa99cf343f6edc"
            ],
            "layout": "IPY_MODEL_2e0ea88fc40a48668ef99649c66b5e02"
          }
        },
        "d3e225a0fe7a4245b88023a20cd69fc5": {
          "model_module": "@jupyter-widgets/controls",
          "model_name": "HTMLModel",
          "model_module_version": "1.5.0",
          "state": {
            "_dom_classes": [],
            "_model_module": "@jupyter-widgets/controls",
            "_model_module_version": "1.5.0",
            "_model_name": "HTMLModel",
            "_view_count": null,
            "_view_module": "@jupyter-widgets/controls",
            "_view_module_version": "1.5.0",
            "_view_name": "HTMLView",
            "description": "",
            "description_tooltip": null,
            "layout": "IPY_MODEL_7aed0c78513f4159870ca228bb70613b",
            "placeholder": "​",
            "style": "IPY_MODEL_6a0863e8725e43d5bf0e27271ef6b99e",
            "value": "100%"
          }
        },
        "851a844a12ea442bb2c5f76d1941edf6": {
          "model_module": "@jupyter-widgets/controls",
          "model_name": "FloatProgressModel",
          "model_module_version": "1.5.0",
          "state": {
            "_dom_classes": [],
            "_model_module": "@jupyter-widgets/controls",
            "_model_module_version": "1.5.0",
            "_model_name": "FloatProgressModel",
            "_view_count": null,
            "_view_module": "@jupyter-widgets/controls",
            "_view_module_version": "1.5.0",
            "_view_name": "ProgressView",
            "bar_style": "success",
            "description": "",
            "description_tooltip": null,
            "layout": "IPY_MODEL_5518665581ad4ca99f67ecbe4b1a74c3",
            "max": 1500,
            "min": 0,
            "orientation": "horizontal",
            "style": "IPY_MODEL_c1e1ea917a6e4e6c91aacce878af4ac3",
            "value": 1500
          }
        },
        "616f73717e9746ef93fa99cf343f6edc": {
          "model_module": "@jupyter-widgets/controls",
          "model_name": "HTMLModel",
          "model_module_version": "1.5.0",
          "state": {
            "_dom_classes": [],
            "_model_module": "@jupyter-widgets/controls",
            "_model_module_version": "1.5.0",
            "_model_name": "HTMLModel",
            "_view_count": null,
            "_view_module": "@jupyter-widgets/controls",
            "_view_module_version": "1.5.0",
            "_view_name": "HTMLView",
            "description": "",
            "description_tooltip": null,
            "layout": "IPY_MODEL_05ce978bd1f149759332eb31a9ae9f75",
            "placeholder": "​",
            "style": "IPY_MODEL_c3f24497a4d14a858c8a73d048d02937",
            "value": " 1500/1500 [00:02&lt;00:00, 1216.82it/s]"
          }
        },
        "2e0ea88fc40a48668ef99649c66b5e02": {
          "model_module": "@jupyter-widgets/base",
          "model_name": "LayoutModel",
          "model_module_version": "1.2.0",
          "state": {
            "_model_module": "@jupyter-widgets/base",
            "_model_module_version": "1.2.0",
            "_model_name": "LayoutModel",
            "_view_count": null,
            "_view_module": "@jupyter-widgets/base",
            "_view_module_version": "1.2.0",
            "_view_name": "LayoutView",
            "align_content": null,
            "align_items": null,
            "align_self": null,
            "border": null,
            "bottom": null,
            "display": null,
            "flex": null,
            "flex_flow": null,
            "grid_area": null,
            "grid_auto_columns": null,
            "grid_auto_flow": null,
            "grid_auto_rows": null,
            "grid_column": null,
            "grid_gap": null,
            "grid_row": null,
            "grid_template_areas": null,
            "grid_template_columns": null,
            "grid_template_rows": null,
            "height": null,
            "justify_content": null,
            "justify_items": null,
            "left": null,
            "margin": null,
            "max_height": null,
            "max_width": null,
            "min_height": null,
            "min_width": null,
            "object_fit": null,
            "object_position": null,
            "order": null,
            "overflow": null,
            "overflow_x": null,
            "overflow_y": null,
            "padding": null,
            "right": null,
            "top": null,
            "visibility": null,
            "width": null
          }
        },
        "7aed0c78513f4159870ca228bb70613b": {
          "model_module": "@jupyter-widgets/base",
          "model_name": "LayoutModel",
          "model_module_version": "1.2.0",
          "state": {
            "_model_module": "@jupyter-widgets/base",
            "_model_module_version": "1.2.0",
            "_model_name": "LayoutModel",
            "_view_count": null,
            "_view_module": "@jupyter-widgets/base",
            "_view_module_version": "1.2.0",
            "_view_name": "LayoutView",
            "align_content": null,
            "align_items": null,
            "align_self": null,
            "border": null,
            "bottom": null,
            "display": null,
            "flex": null,
            "flex_flow": null,
            "grid_area": null,
            "grid_auto_columns": null,
            "grid_auto_flow": null,
            "grid_auto_rows": null,
            "grid_column": null,
            "grid_gap": null,
            "grid_row": null,
            "grid_template_areas": null,
            "grid_template_columns": null,
            "grid_template_rows": null,
            "height": null,
            "justify_content": null,
            "justify_items": null,
            "left": null,
            "margin": null,
            "max_height": null,
            "max_width": null,
            "min_height": null,
            "min_width": null,
            "object_fit": null,
            "object_position": null,
            "order": null,
            "overflow": null,
            "overflow_x": null,
            "overflow_y": null,
            "padding": null,
            "right": null,
            "top": null,
            "visibility": null,
            "width": null
          }
        },
        "6a0863e8725e43d5bf0e27271ef6b99e": {
          "model_module": "@jupyter-widgets/controls",
          "model_name": "DescriptionStyleModel",
          "model_module_version": "1.5.0",
          "state": {
            "_model_module": "@jupyter-widgets/controls",
            "_model_module_version": "1.5.0",
            "_model_name": "DescriptionStyleModel",
            "_view_count": null,
            "_view_module": "@jupyter-widgets/base",
            "_view_module_version": "1.2.0",
            "_view_name": "StyleView",
            "description_width": ""
          }
        },
        "5518665581ad4ca99f67ecbe4b1a74c3": {
          "model_module": "@jupyter-widgets/base",
          "model_name": "LayoutModel",
          "model_module_version": "1.2.0",
          "state": {
            "_model_module": "@jupyter-widgets/base",
            "_model_module_version": "1.2.0",
            "_model_name": "LayoutModel",
            "_view_count": null,
            "_view_module": "@jupyter-widgets/base",
            "_view_module_version": "1.2.0",
            "_view_name": "LayoutView",
            "align_content": null,
            "align_items": null,
            "align_self": null,
            "border": null,
            "bottom": null,
            "display": null,
            "flex": null,
            "flex_flow": null,
            "grid_area": null,
            "grid_auto_columns": null,
            "grid_auto_flow": null,
            "grid_auto_rows": null,
            "grid_column": null,
            "grid_gap": null,
            "grid_row": null,
            "grid_template_areas": null,
            "grid_template_columns": null,
            "grid_template_rows": null,
            "height": null,
            "justify_content": null,
            "justify_items": null,
            "left": null,
            "margin": null,
            "max_height": null,
            "max_width": null,
            "min_height": null,
            "min_width": null,
            "object_fit": null,
            "object_position": null,
            "order": null,
            "overflow": null,
            "overflow_x": null,
            "overflow_y": null,
            "padding": null,
            "right": null,
            "top": null,
            "visibility": null,
            "width": null
          }
        },
        "c1e1ea917a6e4e6c91aacce878af4ac3": {
          "model_module": "@jupyter-widgets/controls",
          "model_name": "ProgressStyleModel",
          "model_module_version": "1.5.0",
          "state": {
            "_model_module": "@jupyter-widgets/controls",
            "_model_module_version": "1.5.0",
            "_model_name": "ProgressStyleModel",
            "_view_count": null,
            "_view_module": "@jupyter-widgets/base",
            "_view_module_version": "1.2.0",
            "_view_name": "StyleView",
            "bar_color": null,
            "description_width": ""
          }
        },
        "05ce978bd1f149759332eb31a9ae9f75": {
          "model_module": "@jupyter-widgets/base",
          "model_name": "LayoutModel",
          "model_module_version": "1.2.0",
          "state": {
            "_model_module": "@jupyter-widgets/base",
            "_model_module_version": "1.2.0",
            "_model_name": "LayoutModel",
            "_view_count": null,
            "_view_module": "@jupyter-widgets/base",
            "_view_module_version": "1.2.0",
            "_view_name": "LayoutView",
            "align_content": null,
            "align_items": null,
            "align_self": null,
            "border": null,
            "bottom": null,
            "display": null,
            "flex": null,
            "flex_flow": null,
            "grid_area": null,
            "grid_auto_columns": null,
            "grid_auto_flow": null,
            "grid_auto_rows": null,
            "grid_column": null,
            "grid_gap": null,
            "grid_row": null,
            "grid_template_areas": null,
            "grid_template_columns": null,
            "grid_template_rows": null,
            "height": null,
            "justify_content": null,
            "justify_items": null,
            "left": null,
            "margin": null,
            "max_height": null,
            "max_width": null,
            "min_height": null,
            "min_width": null,
            "object_fit": null,
            "object_position": null,
            "order": null,
            "overflow": null,
            "overflow_x": null,
            "overflow_y": null,
            "padding": null,
            "right": null,
            "top": null,
            "visibility": null,
            "width": null
          }
        },
        "c3f24497a4d14a858c8a73d048d02937": {
          "model_module": "@jupyter-widgets/controls",
          "model_name": "DescriptionStyleModel",
          "model_module_version": "1.5.0",
          "state": {
            "_model_module": "@jupyter-widgets/controls",
            "_model_module_version": "1.5.0",
            "_model_name": "DescriptionStyleModel",
            "_view_count": null,
            "_view_module": "@jupyter-widgets/base",
            "_view_module_version": "1.2.0",
            "_view_name": "StyleView",
            "description_width": ""
          }
        },
        "5db8dd988e2440e4b82696a6b6f53eff": {
          "model_module": "@jupyter-widgets/controls",
          "model_name": "HBoxModel",
          "model_module_version": "1.5.0",
          "state": {
            "_dom_classes": [],
            "_model_module": "@jupyter-widgets/controls",
            "_model_module_version": "1.5.0",
            "_model_name": "HBoxModel",
            "_view_count": null,
            "_view_module": "@jupyter-widgets/controls",
            "_view_module_version": "1.5.0",
            "_view_name": "HBoxView",
            "box_style": "",
            "children": [
              "IPY_MODEL_8bc815a4259c423b983823b15797d8d2",
              "IPY_MODEL_65a5e87abbad4a2d9eb06127998edbe0",
              "IPY_MODEL_bf00e7eeda5c4136b5ffa57ed82108a1"
            ],
            "layout": "IPY_MODEL_deae02ec03ac48b28c312e39bb49d2c7"
          }
        },
        "8bc815a4259c423b983823b15797d8d2": {
          "model_module": "@jupyter-widgets/controls",
          "model_name": "HTMLModel",
          "model_module_version": "1.5.0",
          "state": {
            "_dom_classes": [],
            "_model_module": "@jupyter-widgets/controls",
            "_model_module_version": "1.5.0",
            "_model_name": "HTMLModel",
            "_view_count": null,
            "_view_module": "@jupyter-widgets/controls",
            "_view_module_version": "1.5.0",
            "_view_name": "HTMLView",
            "description": "",
            "description_tooltip": null,
            "layout": "IPY_MODEL_7222e85fd336473092e62509e9e64b69",
            "placeholder": "​",
            "style": "IPY_MODEL_44a26f8e94b3494fb5713856719766d9",
            "value": "100%"
          }
        },
        "65a5e87abbad4a2d9eb06127998edbe0": {
          "model_module": "@jupyter-widgets/controls",
          "model_name": "FloatProgressModel",
          "model_module_version": "1.5.0",
          "state": {
            "_dom_classes": [],
            "_model_module": "@jupyter-widgets/controls",
            "_model_module_version": "1.5.0",
            "_model_name": "FloatProgressModel",
            "_view_count": null,
            "_view_module": "@jupyter-widgets/controls",
            "_view_module_version": "1.5.0",
            "_view_name": "ProgressView",
            "bar_style": "success",
            "description": "",
            "description_tooltip": null,
            "layout": "IPY_MODEL_321ba4d12fc443d3af264031d453aca1",
            "max": 100,
            "min": 0,
            "orientation": "horizontal",
            "style": "IPY_MODEL_e3ab7d175d7046fcb072c5de8a9a3d84",
            "value": 100
          }
        },
        "bf00e7eeda5c4136b5ffa57ed82108a1": {
          "model_module": "@jupyter-widgets/controls",
          "model_name": "HTMLModel",
          "model_module_version": "1.5.0",
          "state": {
            "_dom_classes": [],
            "_model_module": "@jupyter-widgets/controls",
            "_model_module_version": "1.5.0",
            "_model_name": "HTMLModel",
            "_view_count": null,
            "_view_module": "@jupyter-widgets/controls",
            "_view_module_version": "1.5.0",
            "_view_name": "HTMLView",
            "description": "",
            "description_tooltip": null,
            "layout": "IPY_MODEL_ac10f58ded3f45b38fc608964c1fdeb3",
            "placeholder": "​",
            "style": "IPY_MODEL_6b1b7a00c90f4780b873494690159395",
            "value": " 100/100 [00:00&lt;00:00, 796.82it/s]"
          }
        },
        "deae02ec03ac48b28c312e39bb49d2c7": {
          "model_module": "@jupyter-widgets/base",
          "model_name": "LayoutModel",
          "model_module_version": "1.2.0",
          "state": {
            "_model_module": "@jupyter-widgets/base",
            "_model_module_version": "1.2.0",
            "_model_name": "LayoutModel",
            "_view_count": null,
            "_view_module": "@jupyter-widgets/base",
            "_view_module_version": "1.2.0",
            "_view_name": "LayoutView",
            "align_content": null,
            "align_items": null,
            "align_self": null,
            "border": null,
            "bottom": null,
            "display": null,
            "flex": null,
            "flex_flow": null,
            "grid_area": null,
            "grid_auto_columns": null,
            "grid_auto_flow": null,
            "grid_auto_rows": null,
            "grid_column": null,
            "grid_gap": null,
            "grid_row": null,
            "grid_template_areas": null,
            "grid_template_columns": null,
            "grid_template_rows": null,
            "height": null,
            "justify_content": null,
            "justify_items": null,
            "left": null,
            "margin": null,
            "max_height": null,
            "max_width": null,
            "min_height": null,
            "min_width": null,
            "object_fit": null,
            "object_position": null,
            "order": null,
            "overflow": null,
            "overflow_x": null,
            "overflow_y": null,
            "padding": null,
            "right": null,
            "top": null,
            "visibility": null,
            "width": null
          }
        },
        "7222e85fd336473092e62509e9e64b69": {
          "model_module": "@jupyter-widgets/base",
          "model_name": "LayoutModel",
          "model_module_version": "1.2.0",
          "state": {
            "_model_module": "@jupyter-widgets/base",
            "_model_module_version": "1.2.0",
            "_model_name": "LayoutModel",
            "_view_count": null,
            "_view_module": "@jupyter-widgets/base",
            "_view_module_version": "1.2.0",
            "_view_name": "LayoutView",
            "align_content": null,
            "align_items": null,
            "align_self": null,
            "border": null,
            "bottom": null,
            "display": null,
            "flex": null,
            "flex_flow": null,
            "grid_area": null,
            "grid_auto_columns": null,
            "grid_auto_flow": null,
            "grid_auto_rows": null,
            "grid_column": null,
            "grid_gap": null,
            "grid_row": null,
            "grid_template_areas": null,
            "grid_template_columns": null,
            "grid_template_rows": null,
            "height": null,
            "justify_content": null,
            "justify_items": null,
            "left": null,
            "margin": null,
            "max_height": null,
            "max_width": null,
            "min_height": null,
            "min_width": null,
            "object_fit": null,
            "object_position": null,
            "order": null,
            "overflow": null,
            "overflow_x": null,
            "overflow_y": null,
            "padding": null,
            "right": null,
            "top": null,
            "visibility": null,
            "width": null
          }
        },
        "44a26f8e94b3494fb5713856719766d9": {
          "model_module": "@jupyter-widgets/controls",
          "model_name": "DescriptionStyleModel",
          "model_module_version": "1.5.0",
          "state": {
            "_model_module": "@jupyter-widgets/controls",
            "_model_module_version": "1.5.0",
            "_model_name": "DescriptionStyleModel",
            "_view_count": null,
            "_view_module": "@jupyter-widgets/base",
            "_view_module_version": "1.2.0",
            "_view_name": "StyleView",
            "description_width": ""
          }
        },
        "321ba4d12fc443d3af264031d453aca1": {
          "model_module": "@jupyter-widgets/base",
          "model_name": "LayoutModel",
          "model_module_version": "1.2.0",
          "state": {
            "_model_module": "@jupyter-widgets/base",
            "_model_module_version": "1.2.0",
            "_model_name": "LayoutModel",
            "_view_count": null,
            "_view_module": "@jupyter-widgets/base",
            "_view_module_version": "1.2.0",
            "_view_name": "LayoutView",
            "align_content": null,
            "align_items": null,
            "align_self": null,
            "border": null,
            "bottom": null,
            "display": null,
            "flex": null,
            "flex_flow": null,
            "grid_area": null,
            "grid_auto_columns": null,
            "grid_auto_flow": null,
            "grid_auto_rows": null,
            "grid_column": null,
            "grid_gap": null,
            "grid_row": null,
            "grid_template_areas": null,
            "grid_template_columns": null,
            "grid_template_rows": null,
            "height": null,
            "justify_content": null,
            "justify_items": null,
            "left": null,
            "margin": null,
            "max_height": null,
            "max_width": null,
            "min_height": null,
            "min_width": null,
            "object_fit": null,
            "object_position": null,
            "order": null,
            "overflow": null,
            "overflow_x": null,
            "overflow_y": null,
            "padding": null,
            "right": null,
            "top": null,
            "visibility": null,
            "width": null
          }
        },
        "e3ab7d175d7046fcb072c5de8a9a3d84": {
          "model_module": "@jupyter-widgets/controls",
          "model_name": "ProgressStyleModel",
          "model_module_version": "1.5.0",
          "state": {
            "_model_module": "@jupyter-widgets/controls",
            "_model_module_version": "1.5.0",
            "_model_name": "ProgressStyleModel",
            "_view_count": null,
            "_view_module": "@jupyter-widgets/base",
            "_view_module_version": "1.2.0",
            "_view_name": "StyleView",
            "bar_color": null,
            "description_width": ""
          }
        },
        "ac10f58ded3f45b38fc608964c1fdeb3": {
          "model_module": "@jupyter-widgets/base",
          "model_name": "LayoutModel",
          "model_module_version": "1.2.0",
          "state": {
            "_model_module": "@jupyter-widgets/base",
            "_model_module_version": "1.2.0",
            "_model_name": "LayoutModel",
            "_view_count": null,
            "_view_module": "@jupyter-widgets/base",
            "_view_module_version": "1.2.0",
            "_view_name": "LayoutView",
            "align_content": null,
            "align_items": null,
            "align_self": null,
            "border": null,
            "bottom": null,
            "display": null,
            "flex": null,
            "flex_flow": null,
            "grid_area": null,
            "grid_auto_columns": null,
            "grid_auto_flow": null,
            "grid_auto_rows": null,
            "grid_column": null,
            "grid_gap": null,
            "grid_row": null,
            "grid_template_areas": null,
            "grid_template_columns": null,
            "grid_template_rows": null,
            "height": null,
            "justify_content": null,
            "justify_items": null,
            "left": null,
            "margin": null,
            "max_height": null,
            "max_width": null,
            "min_height": null,
            "min_width": null,
            "object_fit": null,
            "object_position": null,
            "order": null,
            "overflow": null,
            "overflow_x": null,
            "overflow_y": null,
            "padding": null,
            "right": null,
            "top": null,
            "visibility": null,
            "width": null
          }
        },
        "6b1b7a00c90f4780b873494690159395": {
          "model_module": "@jupyter-widgets/controls",
          "model_name": "DescriptionStyleModel",
          "model_module_version": "1.5.0",
          "state": {
            "_model_module": "@jupyter-widgets/controls",
            "_model_module_version": "1.5.0",
            "_model_name": "DescriptionStyleModel",
            "_view_count": null,
            "_view_module": "@jupyter-widgets/base",
            "_view_module_version": "1.2.0",
            "_view_name": "StyleView",
            "description_width": ""
          }
        }
      }
    }
  },
  "cells": [
    {
      "cell_type": "markdown",
      "metadata": {
        "id": "view-in-github",
        "colab_type": "text"
      },
      "source": [
        "<a href=\"https://colab.research.google.com/github/mahekp05/Reinforcement-Learning-Projects/blob/main/SUCESS_taxi.ipynb\" target=\"_parent\"><img src=\"https://colab.research.google.com/assets/colab-badge.svg\" alt=\"Open In Colab\"/></a>"
      ]
    },
    {
      "cell_type": "markdown",
      "source": [
        "\n",
        "## 1. Install Packages and Dependencies\n",
        "\n",
        "*   **gymnaisum**: toolkit for developing and comparing reinforcement learning algorithms. It provides various environments that simulate real-world scenarios, which are essential for testing and training RL models.\n",
        "*   **pygame**: writing video games; in reinforcement learning it is used to create custom environments\n",
        "*   **numpy**: library for numerical computation in python and provides support for arrays, matrices, and many mathematical functions essential for implementing and testing algorithms\n",
        "*   **imageio and imageio_ffmpeg**: libararies used to read and write images and videos -- useful to render environment and create visualization of our reinforcement learning model and training episodes on collabnotes as live redering is not possible\n",
        "*   **pyglet**: A cross-platform windowing and multimedia library -- used for rendering graphics in reinforcement learning environments\n",
        "*   **tqdm**: creates progress bars to help monitor progress of training and lenghty episodes"
      ],
      "metadata": {
        "id": "xlLeRSUOKey-"
      }
    },
    {
      "cell_type": "code",
      "execution_count": null,
      "metadata": {
        "id": "LzcNk5euQNdP"
      },
      "outputs": [],
      "source": [
        "pip install gymnasium pygame numpy pickle5 imageio imageio_ffmpeg pyglet==1.5.1 tqdm"
      ]
    },
    {
      "cell_type": "code",
      "source": [
        "!sudo apt-get update\n",
        "!sude apt-get install -y python3-opengl\n",
        "!apt install ffmpeg xvfb\n",
        "!pip3 install pyvirtualdisplay"
      ],
      "metadata": {
        "collapsed": true,
        "id": "Z4Aj8LrXQs7T"
      },
      "execution_count": null,
      "outputs": []
    },
    {
      "cell_type": "code",
      "source": [
        "import os\n",
        "os.kill(os.getpid(),9)"
      ],
      "metadata": {
        "id": "4hHDacBXRDfC"
      },
      "execution_count": null,
      "outputs": []
    },
    {
      "cell_type": "markdown",
      "source": [
        "Import libraries"
      ],
      "metadata": {
        "id": "ne3uvci0RTqp"
      }
    },
    {
      "cell_type": "code",
      "source": [
        "import numpy as np\n",
        "import gymnasium as gym\n",
        "import random\n",
        "import imageio\n",
        "import os\n",
        "import tqdm\n",
        "\n",
        "import pickle5 as pickle\n",
        "from tqdm.notebook import tqdm"
      ],
      "metadata": {
        "id": "CPYOVOmTRDUP"
      },
      "execution_count": null,
      "outputs": []
    },
    {
      "cell_type": "markdown",
      "source": [
        "Virtual display"
      ],
      "metadata": {
        "id": "ROuNv6slRiPn"
      }
    },
    {
      "cell_type": "code",
      "source": [
        "from pyvirtualdisplay import Display\n",
        "display = Display(visible=0, size=(3840, 2610))\n",
        "display.start()"
      ],
      "metadata": {
        "colab": {
          "base_uri": "https://localhost:8080/"
        },
        "id": "E_RQb5frRDDg",
        "outputId": "4aaf6f3c-2764-438f-a618-d9abb55358bd"
      },
      "execution_count": null,
      "outputs": [
        {
          "output_type": "execute_result",
          "data": {
            "text/plain": [
              "<pyvirtualdisplay.display.Display at 0x7d6368a96c20>"
            ]
          },
          "metadata": {},
          "execution_count": 2
        }
      ]
    },
    {
      "cell_type": "markdown",
      "source": [
        "Environment -- gymnaisum"
      ],
      "metadata": {
        "id": "p1qQRvCgRt2u"
      }
    },
    {
      "cell_type": "markdown",
      "source": [
        "initialize env"
      ],
      "metadata": {
        "id": "wy65sm62SWKn"
      }
    },
    {
      "cell_type": "code",
      "source": [
        "env = gym.make(\"Taxi-v3\", render_mode = 'rgb_array')"
      ],
      "metadata": {
        "id": "V9-cH0W-RtEB"
      },
      "execution_count": null,
      "outputs": []
    },
    {
      "cell_type": "markdown",
      "source": [
        "Grid Size : 5x5\n",
        "\n",
        "Passenger locations:\n",
        "\n",
        "0: Red\n",
        "\n",
        "1: Green\n",
        "\n",
        "2: Yellow\n",
        "\n",
        "3: Blue\n",
        "\n",
        "4: In taxi\n",
        "\n",
        "Destinations:\n",
        "\n",
        "0: Red\n",
        "\n",
        "1: Green\n",
        "\n",
        "2: Yellow\n",
        "\n",
        "3: Blue\n",
        "\n"
      ],
      "metadata": {
        "id": "du29BETFUhQy"
      }
    },
    {
      "cell_type": "code",
      "source": [
        "state_space = env.observation_space.n\n",
        "print(\"There are \", state_space, \"possible states\")\n",
        "#5*4*4*5 = 500"
      ],
      "metadata": {
        "colab": {
          "base_uri": "https://localhost:8080/"
        },
        "id": "Q8QpEZuTUGr0",
        "outputId": "806d898e-d131-4d39-f95c-10e58df41163"
      },
      "execution_count": null,
      "outputs": [
        {
          "output_type": "stream",
          "name": "stdout",
          "text": [
            "There are  500 possible states\n"
          ]
        }
      ]
    },
    {
      "cell_type": "code",
      "source": [
        "action_space = env.action_space.n\n",
        "print(\"There are\", action_space, \"possible actions\")"
      ],
      "metadata": {
        "colab": {
          "base_uri": "https://localhost:8080/"
        },
        "id": "MVxwxBCDUPbr",
        "outputId": "39dac2b2-6901-4a0e-c0d8-0395f25e525a"
      },
      "execution_count": null,
      "outputs": [
        {
          "output_type": "stream",
          "name": "stdout",
          "text": [
            "There are 6 possible actions\n"
          ]
        }
      ]
    },
    {
      "cell_type": "markdown",
      "source": [
        "initialize q-table\n",
        "**bold text**\n",
        "*q*-table = state-action pair value\n",
        "Every time agent takes an action, the q-table is  getting optimal q-function/table"
      ],
      "metadata": {
        "id": "PTMEQjD-TT5f"
      }
    },
    {
      "cell_type": "code",
      "source": [
        "def initialize_q_table(state_space, action_space):\n",
        "  Qtable = np.zeros((state_space, action_space))\n",
        "  return Qtable"
      ],
      "metadata": {
        "id": "Q9_ddAu4Ss18"
      },
      "execution_count": null,
      "outputs": []
    },
    {
      "cell_type": "code",
      "source": [
        "Qtable_taxi = initialize_q_table(state_space, action_space)\n",
        "print(Qtable_taxi)\n",
        "print(\"Q-table shape:\", Qtable_taxi.shape)"
      ],
      "metadata": {
        "colab": {
          "base_uri": "https://localhost:8080/"
        },
        "id": "bsITtoU9T2jd",
        "outputId": "f3bc7260-5131-4715-e466-75fcbf9ce8ff"
      },
      "execution_count": null,
      "outputs": [
        {
          "output_type": "stream",
          "name": "stdout",
          "text": [
            "[[0. 0. 0. 0. 0. 0.]\n",
            " [0. 0. 0. 0. 0. 0.]\n",
            " [0. 0. 0. 0. 0. 0.]\n",
            " ...\n",
            " [0. 0. 0. 0. 0. 0.]\n",
            " [0. 0. 0. 0. 0. 0.]\n",
            " [0. 0. 0. 0. 0. 0.]]\n",
            "Q-table shape: (500, 6)\n"
          ]
        }
      ]
    },
    {
      "cell_type": "markdown",
      "source": [
        "Training and Execution\n",
        "\n",
        "Training Policies\n",
        "\n",
        "Off-policy algorithms: diff policy used at training time and inference time\n",
        "\n",
        "Greedy Policy -- action that will give us highest reward based on current knowledge (only exploitation)\n",
        "\n",
        "Epsilon Greedy Policy --\n",
        "exploration vs exploitation\n",
        "exploration -- learn new things\n",
        "\n",
        "0 < episolon < 1 (very exploriative)"
      ],
      "metadata": {
        "id": "pZEM4Fv_V0t1"
      }
    },
    {
      "cell_type": "markdown",
      "source": [
        "Greedy policy"
      ],
      "metadata": {
        "id": "w_elhNkqWiN1"
      }
    },
    {
      "cell_type": "code",
      "source": [
        "def greedy_policy(Qtable, state):\n",
        "  #Exploitation: take action with highest state, action value\n",
        "  action = np.argmax(Qtable[state][:])\n",
        "\n",
        "  return action"
      ],
      "metadata": {
        "id": "dIYvVhzGV2xF"
      },
      "execution_count": null,
      "outputs": []
    },
    {
      "cell_type": "markdown",
      "source": [
        "epsilon greedy policy"
      ],
      "metadata": {
        "id": "LY3fiAOnWy3O"
      }
    },
    {
      "cell_type": "code",
      "source": [
        "def epsilon_greedy_policy(Qtable, state, epsilon):\n",
        "  #Randomly generate a number between 0 and 1\n",
        "  random_num = random.uniform(0,1)\n",
        "\n",
        "  if random_num > epsilon: #exploitation\n",
        "    #take action with highest value given state\n",
        "    action = greedy_policy(Qtable, state)\n",
        "  else: #exploration\n",
        "    action = env.action_space.sample()\n",
        "\n",
        "  return action"
      ],
      "metadata": {
        "id": "m9i4gqhCW12L"
      },
      "execution_count": null,
      "outputs": []
    },
    {
      "cell_type": "markdown",
      "source": [
        "hyper parameters"
      ],
      "metadata": {
        "id": "IOY1TMDxXg6f"
      }
    },
    {
      "cell_type": "code",
      "source": [
        "#Training parameters\n",
        "n_training_episodes = 1500 #total learning episodes\n",
        "learning_rate = 0.7 #learning rate\n",
        "\n",
        "#Evaluation parameters\n",
        "n_eval_episodes = 100 #total number of test episodes\n",
        "\n",
        "eval_seed = [16,54,165,177,191,191,120,80,149,178,48,38,6,125,174,73,50,172,100,\n",
        "             148,146,6,25,40,68,148,49,167,9,97,164,176,61,7,54,55,161,131,184,\n",
        "             51,170,12,120,113,95,126,51,98,36,135,54,82,45,95,89,59,95,124,9,\n",
        "             113,58,85,51,134,121,169,105,21,30,11,50,65,12,43,82,145,152,97,106,\n",
        "             55,31,85,38,112,102,168,123,97,21,83,158,26,80,63,5,81,32,11,28,148]\n",
        "# Evaluation seed, this ensures that all classmates agents are trained on the same taxi starting position\n",
        "# Each seed has a specific starting state\n",
        "\n",
        "#Environment parameters\n",
        "env_id = \"Taxi-v3\" # name of environment\n",
        "max_steps = 99 #max steps per episode\n",
        "gamma = 0.95 #discounting rate\n",
        "\n",
        "#Exploration parameters\n",
        "max_epsilon = 1.0 #exploration probability at start\n",
        "min_epsilon = 0.01 # minimum exploration probability\n",
        "decay_rate = 0.005 #exploration decay rate for exploration probability"
      ],
      "metadata": {
        "id": "PHvmvUR_XiuW"
      },
      "execution_count": null,
      "outputs": []
    },
    {
      "cell_type": "markdown",
      "source": [
        "Training function"
      ],
      "metadata": {
        "id": "TJUot9B2Y_5-"
      }
    },
    {
      "cell_type": "code",
      "source": [
        "def train(n_training_episodes, min_epsilon, max_epsilon, decay_rate, env,\n",
        "          max_steps, Qtable):\n",
        "  for episode in tqdm(range(n_training_episodes)):\n",
        "    #Reduce epsilon (bc we need less and less exploration)\n",
        "    epsilon = min_epsilon + (max_epsilon - min_epsilon)*np.exp(-decay_rate*episode)\n",
        "\n",
        "    #Reset environment\n",
        "    state, info = env.reset()\n",
        "    step = 0\n",
        "    terminated = False\n",
        "    truncated = False\n",
        "\n",
        "    #repeat -- update after each step instead of episode\n",
        "    for step in range(max_steps):\n",
        "      #choose the action At using epsilon greedy policy\n",
        "      action = epsilon_greedy_policy(Qtable, state, epsilon)\n",
        "\n",
        "      #Take action AT and observe Rt+1 and St+1\n",
        "      #Take the action (a) and observe the outcome states (s') and reward(r)\n",
        "      new_state, reward,terminated, truncated, info = env.step(action)\n",
        "\n",
        "      #Update Q(s,a):= Q(s,a) + lr[R(s,a) + gamma * max Q(s',a') - Q(s,a)]\n",
        "      Qtable[state][action] = Qtable[state][action] + learning_rate * (reward + gamma * np.max(Qtable[new_state] )- Qtable[state][action])\n",
        "\n",
        "      #if terminated or truncated finish episode\n",
        "      if terminated or truncated:\n",
        "        break\n",
        "\n",
        "      state = new_state\n",
        "\n",
        "  return Qtable\n"
      ],
      "metadata": {
        "id": "6UCZAER7Y9U_"
      },
      "execution_count": null,
      "outputs": []
    },
    {
      "cell_type": "markdown",
      "source": [
        "Train"
      ],
      "metadata": {
        "id": "UlD5wZYyb_MC"
      }
    },
    {
      "cell_type": "code",
      "source": [
        "Qtable_taxi = train(n_training_episodes, min_epsilon, max_epsilon, decay_rate,\n",
        "                    env, max_steps, Qtable_taxi)\n",
        "\n",
        "Qtable_taxi"
      ],
      "metadata": {
        "colab": {
          "base_uri": "https://localhost:8080/",
          "height": 275,
          "referenced_widgets": [
            "a98ee1b7889b437b9e64c266f0aac123",
            "d3e225a0fe7a4245b88023a20cd69fc5",
            "851a844a12ea442bb2c5f76d1941edf6",
            "616f73717e9746ef93fa99cf343f6edc",
            "2e0ea88fc40a48668ef99649c66b5e02",
            "7aed0c78513f4159870ca228bb70613b",
            "6a0863e8725e43d5bf0e27271ef6b99e",
            "5518665581ad4ca99f67ecbe4b1a74c3",
            "c1e1ea917a6e4e6c91aacce878af4ac3",
            "05ce978bd1f149759332eb31a9ae9f75",
            "c3f24497a4d14a858c8a73d048d02937"
          ]
        },
        "id": "7h1u50YrcALv",
        "outputId": "f430dd35-5b3f-4c7e-f965-52b284cc7bb3"
      },
      "execution_count": null,
      "outputs": [
        {
          "output_type": "display_data",
          "data": {
            "text/plain": [
              "  0%|          | 0/1500 [00:00<?, ?it/s]"
            ],
            "application/vnd.jupyter.widget-view+json": {
              "version_major": 2,
              "version_minor": 0,
              "model_id": "a98ee1b7889b437b9e64c266f0aac123"
            }
          },
          "metadata": {}
        },
        {
          "output_type": "execute_result",
          "data": {
            "text/plain": [
              "array([[  0.        ,   0.        ,   0.        ,   0.        ,\n",
              "          0.        ,   0.        ],\n",
              "       [  2.44182855,  -4.26213084,   0.598163  ,   1.33253053,\n",
              "          5.20997639,  -7.60266139],\n",
              "       [ -3.21090951,   2.63612139,   4.20230678,  -3.12047287,\n",
              "         10.9512375 ,  -2.07887104],\n",
              "       ...,\n",
              "       [ -2.86848537,  11.70839455,  -2.65639999,  -2.52163774,\n",
              "        -11.24714343, -10.0147075 ],\n",
              "       [ -3.71225095,  -3.69301622,  -4.07766031,  -3.55440688,\n",
              "         -7.        , -10.61725198],\n",
              "       [ 15.60262615,   9.46034914,  15.94471648,  18.        ,\n",
              "         -7.        ,   5.2977261 ]])"
            ]
          },
          "metadata": {},
          "execution_count": 12
        }
      ]
    },
    {
      "cell_type": "markdown",
      "source": [
        "Model card"
      ],
      "metadata": {
        "id": "-3rHyrwXdaMK"
      }
    },
    {
      "cell_type": "code",
      "source": [
        "model = {\n",
        "    \"env_id\": env_id,\n",
        "    \"max_steps\": max_steps,\n",
        "    \"n_training_episodes\": n_training_episodes,\n",
        "    \"n_eval_episodes\": n_eval_episodes,\n",
        "    \"eval_seed\": eval_seed,\n",
        "\n",
        "    \"learning_rate\": learning_rate,\n",
        "    \"gamma\": gamma,\n",
        "\n",
        "    \"max_epsilon\": max_epsilon,\n",
        "    \"min_epsilon\": min_epsilon,\n",
        "    \"decay_rate\": decay_rate,\n",
        "\n",
        "    \"qtable\": Qtable_taxi\n",
        "}"
      ],
      "metadata": {
        "id": "1-ppaL1ddZVo"
      },
      "execution_count": null,
      "outputs": []
    },
    {
      "cell_type": "markdown",
      "source": [
        "Record Video"
      ],
      "metadata": {
        "id": "48q439SFdy_R"
      }
    },
    {
      "cell_type": "code",
      "source": [
        "from math import trunc\n",
        "def record_video(env, Qtable, out_directory, fps=1, max_steps=20):\n",
        "  \"\"\"\n",
        "  Generate a replay video of agent\n",
        "  :param env\n",
        "  :param Qtable: Qtable of our agent\n",
        "  :param out_directory\n",
        "  :param fps: how many frames per second (w taxi-v3 we use 1)\n",
        "  :param max_steps: max steps for recording\n",
        "  \"\"\"\n",
        "\n",
        "  images = []\n",
        "  terminated = False\n",
        "  trucanted = False\n",
        "  state, info = env.reset(seed=random.randint(0,500))\n",
        "  img = env.render()\n",
        "  images.append(img)\n",
        "  step_count = 0\n",
        "\n",
        "  while(not terminated or not trucanted) and step_count < max_steps:\n",
        "    action = np.argmax(Qtable[state])\n",
        "    state, reward,terminated,trucanted,info = env.step(action)\n",
        "    img = env.render()\n",
        "    images.append(img)\n",
        "    step_count +=1\n",
        "\n",
        "    imageio.mimsave(out_directory, [np.array(img) for i, img in enumerate(images)], fps=fps)\n"
      ],
      "metadata": {
        "id": "V3w7uZd2d0XO"
      },
      "execution_count": null,
      "outputs": []
    },
    {
      "cell_type": "markdown",
      "source": [
        "Record single video"
      ],
      "metadata": {
        "id": "Ovb5r1rUfF6x"
      }
    },
    {
      "cell_type": "code",
      "source": [
        " video_name = \"replay.mp4\"\n",
        " record_video(env, model[\"qtable\"], video_name,1)"
      ],
      "metadata": {
        "colab": {
          "base_uri": "https://localhost:8080/"
        },
        "collapsed": true,
        "id": "gknjqNA8fCrN",
        "outputId": "f2c9be85-f970-40ff-d1e7-d0c7441048d2"
      },
      "execution_count": null,
      "outputs": [
        {
          "output_type": "stream",
          "name": "stderr",
          "text": [
            "WARNING:imageio_ffmpeg:IMAGEIO FFMPEG_WRITER WARNING: input image is not divisible by macro_block_size=16, resizing from (550, 350) to (560, 352) to ensure video compatibility with most codecs and players. To prevent resizing, make your input image divisible by the macro_block_size or set the macro_block_size to 1 (risking incompatibility).\n",
            "WARNING:imageio_ffmpeg:IMAGEIO FFMPEG_WRITER WARNING: input image is not divisible by macro_block_size=16, resizing from (550, 350) to (560, 352) to ensure video compatibility with most codecs and players. To prevent resizing, make your input image divisible by the macro_block_size or set the macro_block_size to 1 (risking incompatibility).\n",
            "WARNING:imageio_ffmpeg:IMAGEIO FFMPEG_WRITER WARNING: input image is not divisible by macro_block_size=16, resizing from (550, 350) to (560, 352) to ensure video compatibility with most codecs and players. To prevent resizing, make your input image divisible by the macro_block_size or set the macro_block_size to 1 (risking incompatibility).\n",
            "WARNING:imageio_ffmpeg:IMAGEIO FFMPEG_WRITER WARNING: input image is not divisible by macro_block_size=16, resizing from (550, 350) to (560, 352) to ensure video compatibility with most codecs and players. To prevent resizing, make your input image divisible by the macro_block_size or set the macro_block_size to 1 (risking incompatibility).\n",
            "WARNING:imageio_ffmpeg:IMAGEIO FFMPEG_WRITER WARNING: input image is not divisible by macro_block_size=16, resizing from (550, 350) to (560, 352) to ensure video compatibility with most codecs and players. To prevent resizing, make your input image divisible by the macro_block_size or set the macro_block_size to 1 (risking incompatibility).\n",
            "WARNING:imageio_ffmpeg:IMAGEIO FFMPEG_WRITER WARNING: input image is not divisible by macro_block_size=16, resizing from (550, 350) to (560, 352) to ensure video compatibility with most codecs and players. To prevent resizing, make your input image divisible by the macro_block_size or set the macro_block_size to 1 (risking incompatibility).\n",
            "WARNING:imageio_ffmpeg:IMAGEIO FFMPEG_WRITER WARNING: input image is not divisible by macro_block_size=16, resizing from (550, 350) to (560, 352) to ensure video compatibility with most codecs and players. To prevent resizing, make your input image divisible by the macro_block_size or set the macro_block_size to 1 (risking incompatibility).\n",
            "WARNING:imageio_ffmpeg:IMAGEIO FFMPEG_WRITER WARNING: input image is not divisible by macro_block_size=16, resizing from (550, 350) to (560, 352) to ensure video compatibility with most codecs and players. To prevent resizing, make your input image divisible by the macro_block_size or set the macro_block_size to 1 (risking incompatibility).\n",
            "WARNING:imageio_ffmpeg:IMAGEIO FFMPEG_WRITER WARNING: input image is not divisible by macro_block_size=16, resizing from (550, 350) to (560, 352) to ensure video compatibility with most codecs and players. To prevent resizing, make your input image divisible by the macro_block_size or set the macro_block_size to 1 (risking incompatibility).\n",
            "WARNING:imageio_ffmpeg:IMAGEIO FFMPEG_WRITER WARNING: input image is not divisible by macro_block_size=16, resizing from (550, 350) to (560, 352) to ensure video compatibility with most codecs and players. To prevent resizing, make your input image divisible by the macro_block_size or set the macro_block_size to 1 (risking incompatibility).\n",
            "WARNING:imageio_ffmpeg:IMAGEIO FFMPEG_WRITER WARNING: input image is not divisible by macro_block_size=16, resizing from (550, 350) to (560, 352) to ensure video compatibility with most codecs and players. To prevent resizing, make your input image divisible by the macro_block_size or set the macro_block_size to 1 (risking incompatibility).\n",
            "WARNING:imageio_ffmpeg:IMAGEIO FFMPEG_WRITER WARNING: input image is not divisible by macro_block_size=16, resizing from (550, 350) to (560, 352) to ensure video compatibility with most codecs and players. To prevent resizing, make your input image divisible by the macro_block_size or set the macro_block_size to 1 (risking incompatibility).\n",
            "WARNING:imageio_ffmpeg:IMAGEIO FFMPEG_WRITER WARNING: input image is not divisible by macro_block_size=16, resizing from (550, 350) to (560, 352) to ensure video compatibility with most codecs and players. To prevent resizing, make your input image divisible by the macro_block_size or set the macro_block_size to 1 (risking incompatibility).\n",
            "WARNING:imageio_ffmpeg:IMAGEIO FFMPEG_WRITER WARNING: input image is not divisible by macro_block_size=16, resizing from (550, 350) to (560, 352) to ensure video compatibility with most codecs and players. To prevent resizing, make your input image divisible by the macro_block_size or set the macro_block_size to 1 (risking incompatibility).\n",
            "WARNING:imageio_ffmpeg:IMAGEIO FFMPEG_WRITER WARNING: input image is not divisible by macro_block_size=16, resizing from (550, 350) to (560, 352) to ensure video compatibility with most codecs and players. To prevent resizing, make your input image divisible by the macro_block_size or set the macro_block_size to 1 (risking incompatibility).\n",
            "WARNING:imageio_ffmpeg:IMAGEIO FFMPEG_WRITER WARNING: input image is not divisible by macro_block_size=16, resizing from (550, 350) to (560, 352) to ensure video compatibility with most codecs and players. To prevent resizing, make your input image divisible by the macro_block_size or set the macro_block_size to 1 (risking incompatibility).\n",
            "WARNING:imageio_ffmpeg:IMAGEIO FFMPEG_WRITER WARNING: input image is not divisible by macro_block_size=16, resizing from (550, 350) to (560, 352) to ensure video compatibility with most codecs and players. To prevent resizing, make your input image divisible by the macro_block_size or set the macro_block_size to 1 (risking incompatibility).\n",
            "WARNING:imageio_ffmpeg:IMAGEIO FFMPEG_WRITER WARNING: input image is not divisible by macro_block_size=16, resizing from (550, 350) to (560, 352) to ensure video compatibility with most codecs and players. To prevent resizing, make your input image divisible by the macro_block_size or set the macro_block_size to 1 (risking incompatibility).\n",
            "WARNING:imageio_ffmpeg:IMAGEIO FFMPEG_WRITER WARNING: input image is not divisible by macro_block_size=16, resizing from (550, 350) to (560, 352) to ensure video compatibility with most codecs and players. To prevent resizing, make your input image divisible by the macro_block_size or set the macro_block_size to 1 (risking incompatibility).\n",
            "WARNING:imageio_ffmpeg:IMAGEIO FFMPEG_WRITER WARNING: input image is not divisible by macro_block_size=16, resizing from (550, 350) to (560, 352) to ensure video compatibility with most codecs and players. To prevent resizing, make your input image divisible by the macro_block_size or set the macro_block_size to 1 (risking incompatibility).\n"
          ]
        }
      ]
    },
    {
      "cell_type": "code",
      "source": [
        "from IPython.display import HTML\n",
        "from base64 import b64encode\n",
        "mp4 = open('replay.mp4','rb').read()\n",
        "data_url = \"data:video/mp4;base64,\" + b64encode(mp4).decode()\n",
        "HTML(\"\"\"\n",
        "<video width=400 controls>\n",
        "      <source src=\"%s\" type=\"video/mp4\">\n",
        "</video>\n",
        "\"\"\" % data_url)"
      ],
      "metadata": {
        "colab": {
          "base_uri": "https://localhost:8080/",
          "height": 272
        },
        "id": "sK2MKNRTfVp6",
        "outputId": "f897d388-9d5f-422c-f972-5fd37241cd2d"
      },
      "execution_count": null,
      "outputs": [
        {
          "output_type": "execute_result",
          "data": {
            "text/plain": [
              "<IPython.core.display.HTML object>"
            ],
            "text/html": [
              "\n",
              "<video width=400 controls>\n",
              "      <source src=\"data:video/mp4;base64,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\" type=\"video/mp4\">\n",
              "</video>\n"
            ]
          },
          "metadata": {},
          "execution_count": 16
        }
      ]
    },
    {
      "cell_type": "markdown",
      "source": [
        "Agent Eval -- quantification"
      ],
      "metadata": {
        "id": "ndalLXjvgUzz"
      }
    },
    {
      "cell_type": "code",
      "source": [
        "def evaluate_agent(env, max_steps, n_eval_episodes, Q, seed):\n",
        "  \"\"\"\n",
        "  Evaluate the agent for ``n_eval_episodes`` episodes and returns average reward and std of reward.\n",
        "  :param env: The evaluation environment\n",
        "  :param max_steps: Maximum number of steps per episode\n",
        "  :param n_eval_episodes: Number of episode to evaluate the agent\n",
        "  :param Q: The Q-table\n",
        "  :param seed: The evaluation seed array (for taxi-v3)\n",
        "  \"\"\"\n",
        "  episode_rewards = []\n",
        "  for episode in tqdm(range(n_eval_episodes)):\n",
        "    if seed:\n",
        "      state, info = env.reset(seed=seed[episode])\n",
        "    else:\n",
        "      state, info = env.reset()\n",
        "\n",
        "    step = 0\n",
        "    trucanted = False\n",
        "    terminated = False\n",
        "    total_rewards_ep = 0\n",
        "\n",
        "    for step in range(max_steps):\n",
        "      action = greedy_policy(Q,state)\n",
        "      new_state, reward, terminated, trucanted, info = env.step(action)\n",
        "      total_rewards_ep += reward\n",
        "\n",
        "      if terminated or trucanted:\n",
        "        break\n",
        "\n",
        "      state = new_state\n",
        "      episode_rewards.append(total_rewards_ep)\n",
        "\n",
        "  mean_reward = np.mean(episode_rewards)\n",
        "  std_reward = np.std(episode_rewards)\n",
        "\n",
        "  return mean_reward, std_reward\n"
      ],
      "metadata": {
        "id": "kDfQ2Sj3gUQK"
      },
      "execution_count": null,
      "outputs": []
    },
    {
      "cell_type": "markdown",
      "source": [
        "def train(n_training_episodes, min_epsilon, max_epsilon, decay_rate, env, max_steps, Qtable):\n",
        "    # Loop over each training episode\n",
        "    for episode in tqdm(range(n_training_episodes)):\n",
        "        # Calculate the current epsilon for exploration-exploitation balance\n",
        "        epsilon = min_epsilon + (max_epsilon - min_epsilon) * np.exp(-decay_rate * episode)\n",
        "        \n",
        "        # Reset the environment to start a new episode\n",
        "        state, info = env.reset()\n",
        "        step = 0\n",
        "        terminated = truncated = False\n",
        "        \n",
        "        # Loop over each step in the episode\n",
        "        for step in range(max_steps):\n",
        "            # Choose an action using epsilon-greedy policy\n",
        "            action = epsilon_greedy_policy(Qtable, state, epsilon)\n",
        "            \n",
        "            # Take the action and observe the new state and reward\n",
        "            new_state, reward, terminated, truncated, info = env.step(action)\n",
        "            \n",
        "            # Update the Q-table using the Q-learning formula\n",
        "            Qtable[state][action] = Qtable[state][action] + learning_rate * (\n",
        "                reward + gamma * np.max(Qtable[new_state]) - Qtable[state][action])\n",
        "            \n",
        "            # If the episode is terminated or truncated, end the episode\n",
        "            if terminated or truncated:\n",
        "                break\n",
        "            \n",
        "            # Move to the new state\n",
        "            state = new_state\n",
        "    \n",
        "    # Return the updated Q-table after all episodes\n",
        "    return Qtable\n"
      ],
      "metadata": {
        "id": "tm00APqZZyH7"
      }
    },
    {
      "cell_type": "code",
      "source": [
        "#eval agent\n",
        "mean_reward, std_reward = evaluate_agent(env, max_steps,n_eval_episodes,\n",
        "                                         Qtable_taxi, eval_seed)\n",
        "print(f\"Mean_reward={mean_reward:.2f} +/- {std_reward:.2f}\")"
      ],
      "metadata": {
        "colab": {
          "base_uri": "https://localhost:8080/",
          "height": 66,
          "referenced_widgets": [
            "5db8dd988e2440e4b82696a6b6f53eff",
            "8bc815a4259c423b983823b15797d8d2",
            "65a5e87abbad4a2d9eb06127998edbe0",
            "bf00e7eeda5c4136b5ffa57ed82108a1",
            "deae02ec03ac48b28c312e39bb49d2c7",
            "7222e85fd336473092e62509e9e64b69",
            "44a26f8e94b3494fb5713856719766d9",
            "321ba4d12fc443d3af264031d453aca1",
            "e3ab7d175d7046fcb072c5de8a9a3d84",
            "ac10f58ded3f45b38fc608964c1fdeb3",
            "6b1b7a00c90f4780b873494690159395"
          ]
        },
        "id": "67_qoqnsiBhn",
        "outputId": "c81e8950-1cf3-4a12-b767-fc9988562e31"
      },
      "execution_count": null,
      "outputs": [
        {
          "output_type": "display_data",
          "data": {
            "text/plain": [
              "  0%|          | 0/100 [00:00<?, ?it/s]"
            ],
            "application/vnd.jupyter.widget-view+json": {
              "version_major": 2,
              "version_minor": 0,
              "model_id": "5db8dd988e2440e4b82696a6b6f53eff"
            }
          },
          "metadata": {}
        },
        {
          "output_type": "stream",
          "name": "stdout",
          "text": [
            "Mean_reward=-7.01 +/- 4.02\n"
          ]
        }
      ]
    }
  ]
}